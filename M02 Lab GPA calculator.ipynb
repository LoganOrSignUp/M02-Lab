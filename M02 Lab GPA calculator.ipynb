{
 "cells": [
  {
   "cell_type": "code",
   "execution_count": 2,
   "id": "4d3b8ef5",
   "metadata": {},
   "outputs": [
    {
     "name": "stdout",
     "output_type": "stream",
     "text": [
      "Input last name or ZZZ to quit: Mozart\n",
      "Enter first name: Wolfgang\n",
      "Enter GPA: 3.5\n",
      "Wolfgang Mozart has made the Honor Roll\n",
      "Wolfgang Mozart has made the Dean's list\n",
      "Input last name or ZZZ to quit: Bismarck\n",
      "Enter first name: Otto\n",
      "Enter GPA: 3.4\n",
      "Otto Bismarck has made the Honor Roll\n",
      "Input last name or ZZZ to quit: Pilecki\n",
      "Enter first name: Witold\n",
      "Enter GPA: 4\n",
      "Witold Pilecki has made the Honor Roll\n",
      "Witold Pilecki has made the Dean's list\n",
      "Input last name or ZZZ to quit: Robespierre\n",
      "Enter first name: Maximilien\n",
      "Enter GPA: 2\n",
      "Maximilien Robespierre has not made the Honor Roll or Dean's list\n",
      "Input last name or ZZZ to quit: Bonaparte\n",
      "Enter first name: Napoleon\n",
      "Enter GPA: 3.4999999\n",
      "Napoleon Bonaparte has made the Honor Roll\n",
      "Input last name or ZZZ to quit: ZZZ\n"
     ]
    }
   ],
   "source": [
    "#Makes loop work\n",
    "loop = True\n",
    "\n",
    "#Loop for inputing students and GPA\n",
    "while loop == True:\n",
    "    #Input student's last name or quit using ZZZ\n",
    "    last_name = input(\"Input last name or ZZZ to quit: \")\n",
    "    #If user inputs ZZZ, end the loop\n",
    "    if last_name == \"ZZZ\":\n",
    "        loop = False\n",
    "    #If user does not end the loop, continue collecting information\n",
    "    else:\n",
    "        #Asks user to input student's first name\n",
    "        first_name = input(\"Enter first name: \")\n",
    "        #Asks user to input student's GPA which is used to see if they made the Honor Roll and/or the Dean's List\n",
    "        GPA = float(input(\"Enter GPA: \"))\n",
    "        #If GPA is high enough to be on the Honor Roll, print that the student has made the Honor Roll\n",
    "        if GPA >= 3.25:\n",
    "            print(first_name,last_name,\"has made the Honor Roll\")\n",
    "            #If GPA is also high enough to make the Dean's List, print that the student has made the Dean's List\n",
    "            if GPA >= 3.5:\n",
    "                print(first_name,last_name,\"has made the Dean's List\")\n",
    "        #If GPA is too low for both the Honor Roll and Dean's List, print that the student has made neither\n",
    "        elif GPA < 3.25:\n",
    "            print(first_name,last_name,\"has not made the Honor Roll or Dean's List\")"
   ]
  },
  {
   "cell_type": "code",
   "execution_count": null,
   "id": "fccb21e3",
   "metadata": {},
   "outputs": [],
   "source": []
  }
 ],
 "metadata": {
  "kernelspec": {
   "display_name": "Python 3 (ipykernel)",
   "language": "python",
   "name": "python3"
  },
  "language_info": {
   "codemirror_mode": {
    "name": "ipython",
    "version": 3
   },
   "file_extension": ".py",
   "mimetype": "text/x-python",
   "name": "python",
   "nbconvert_exporter": "python",
   "pygments_lexer": "ipython3",
   "version": "3.11.5"
  }
 },
 "nbformat": 4,
 "nbformat_minor": 5
}
